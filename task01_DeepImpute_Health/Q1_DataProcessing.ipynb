{
 "cells": [
  {
   "cell_type": "markdown",
   "id": "4980a134",
   "metadata": {},
   "source": [
    "# Q1. Data Processing\n",
    "\n",
    "Flow1. 결측치 대체  \n",
    "머신러닝/딥러닝 기반의 결측치 대체 모델을 활용하여 결측치를 효과적으로 보간한 후, 분류 모델을 개발.\n",
    "\n",
    "Flow2. 클래스 불균형 문제 해결  \n",
    "당뇨(Target_DM) 및 고혈압(Target_HT) 유병에 대한 각 분류 모델을 만들 때 클래스 불균형 문제를 고려하여 모델 성능을 개선\n",
    "\n",
    "적용 가능한 전략\n",
    "\n",
    "| 전략               | 설명                                                                 |\n",
    "|--------------------|----------------------------------------------------------------------|\n",
    "| **SMOTE**          | 소수 클래스 데이터를 합성하여 늘리는 오버샘플링 기법                |\n",
    "| **언더샘플링**     | 다수 클래스 데이터를 줄여 균형을 맞춤                               |\n",
    "| **Class Weight**   | `class_weight='balanced'` 옵션 등을 통해 자동으로 가중치를 부여     |\n",
    "| **앙상블 기법**    | 여러 모델을 조합하여 클래스 불균형의 영향을 줄이는 방법              |\n"
   ]
  },
  {
   "cell_type": "markdown",
   "id": "c589cffa",
   "metadata": {},
   "source": [
    "## 데이터 확인\n",
    "- 건강검진 및 생체 정보 데이터셋   \n",
    "- 31 column   \n",
    "- 시계열 데이터X, 변수별 연관성은 있을 것 같음."
   ]
  },
  {
   "cell_type": "code",
   "execution_count": 2,
   "id": "21f26e7a",
   "metadata": {},
   "outputs": [],
   "source": [
    "# 데이터 확인\n",
    "import pandas as pd\n",
    "data = pd.read_csv(\"./Data_01.csv\")\n",
    "\n",
    "# print(data.head())  # 데이터 일부 출력\n",
    "# print(data.info())  # 데이터 정보 출력\n",
    "# print(data.describe())  # 데이터 통계 정보 출력"
   ]
  },
  {
   "cell_type": "code",
   "execution_count": 3,
   "id": "8ae1bba4",
   "metadata": {},
   "outputs": [
    {
     "name": "stdout",
     "output_type": "stream",
     "text": [
      "Target_DM\n",
      "0.0    19094\n",
      "1.0      881\n",
      "Name: count, dtype: int64\n",
      "Target_HT\n",
      "0.0    17888\n",
      "1.0     2087\n",
      "Name: count, dtype: int64\n"
     ]
    }
   ],
   "source": [
    "# 클래스 불균형 확인\n",
    "print(data['Target_DM'].value_counts())\n",
    "print(data['Target_HT'].value_counts())"
   ]
  },
  {
   "cell_type": "markdown",
   "id": "4baeea44",
   "metadata": {},
   "source": [
    "---\n",
    "## **📊 Flow1**   \n",
    "> step01 : 변수별 결측 수치(ratio) 확인   \n",
    "> - 완전히 결측된 colums data 3col 발견 --> 제거   \n",
    "> - target colums : y에 해당하는 컬럼. --> 해당 칼럼에도 24개 결측치 있음. 우선 해당 작업에서는 drop\n",
    "   #   \n",
    "> setp02 : Autoencoder 개발    \n",
    "> - hyperparameters 실험\n",
    "> - Autoencoder 모델 학습\n",
    "  \n",
    "   #\n",
    "> setp03 : 모델 검증 -> 내가 개발한 모델이 결측치를 잘 대체했는지 검증   \n",
    "> Baseline으로 MICE, KNN 등 비교   \n",
    ">>   RMSE, MAE, R² 지표 활용\n"
   ]
  },
  {
   "cell_type": "markdown",
   "id": "f76620d2",
   "metadata": {},
   "source": [
    "---\n",
    "## Step 01   "
   ]
  },
  {
   "cell_type": "code",
   "execution_count": 4,
   "id": "73f8ffd2",
   "metadata": {
    "colab": {
     "base_uri": "https://localhost:8080/"
    },
    "executionInfo": {
     "elapsed": 3060,
     "status": "ok",
     "timestamp": 1744169476372,
     "user": {
      "displayName": "김수현",
      "userId": "13233624853538897734"
     },
     "user_tz": -540
    },
    "id": "73f8ffd2",
    "outputId": "0388f9eb-fca5-4284-8e0f-f21dd1c14ef9"
   },
   "outputs": [],
   "source": [
    "# 완전한 결측치 제거\n",
    "drop_cols = ['HE_Ucot', 'HE_FVC', 'HE_Frtn']\n",
    "df = data.drop(columns=drop_cols)"
   ]
  },
  {
   "cell_type": "code",
   "execution_count": 5,
   "id": "0899f3ee",
   "metadata": {},
   "outputs": [
    {
     "name": "stdout",
     "output_type": "stream",
     "text": [
      "           Missing Count  Missing Ratio (%)\n",
      "HE_Bplt            11882          59.412971\n",
      "HE_USG              6941          34.706735\n",
      "HE_Uph              6941          34.706735\n",
      "HE_WBC              6759          33.796690\n",
      "HE_HbA1c            6189          30.946547\n",
      "HE_LDL              3122          15.610781\n",
      "HE_TG                333           1.665083\n",
      "HE_glu               330           1.650083\n",
      "HE_ALT               262           1.310066\n",
      "HE_AST               227           1.135057\n",
      "HE_HB                219           1.095055\n",
      "HE_HCT               215           1.075054\n",
      "HE_RBC               213           1.065053\n",
      "HE_BUN               213           1.065053\n",
      "HE_CHOL              212           1.060053\n",
      "HE_HDL               210           1.050053\n",
      "HE_CREA              187           0.935047\n",
      "HE_PLS               169           0.845042\n",
      "Target_DM             24           0.120006\n",
      "Target_HT             24           0.120006\n",
      "HE_WC                  4           0.020001\n"
     ]
    }
   ],
   "source": [
    "missing_count = df.isnull().sum()     # 칼럼별 결측치 개수\n",
    "missing_ratio = df.isnull().mean() * 100\n",
    "\n",
    "# 보기 좋게 하나의 데이터프레임으로 정리\n",
    "missing_df = pd.DataFrame({\n",
    "    'Missing Count': missing_count,\n",
    "    'Missing Ratio (%)': missing_ratio\n",
    "})\n",
    "\n",
    "# 결측치가 있는 변수만 필터링 \n",
    "missing_df = missing_df[missing_df['Missing Count'] > 0]\n",
    "\n",
    "# 결측치 많은 순으로 정렬\n",
    "missing_df = missing_df.sort_values(by='Missing Count', ascending=False)\n",
    "\n",
    "print(missing_df)"
   ]
  },
  {
   "cell_type": "code",
   "execution_count": 6,
   "id": "f0d5f5ad",
   "metadata": {},
   "outputs": [
    {
     "data": {
      "text/html": [
       "<div>\n",
       "<style scoped>\n",
       "    .dataframe tbody tr th:only-of-type {\n",
       "        vertical-align: middle;\n",
       "    }\n",
       "\n",
       "    .dataframe tbody tr th {\n",
       "        vertical-align: top;\n",
       "    }\n",
       "\n",
       "    .dataframe thead th {\n",
       "        text-align: right;\n",
       "    }\n",
       "</style>\n",
       "<table border=\"1\" class=\"dataframe\">\n",
       "  <thead>\n",
       "    <tr style=\"text-align: right;\">\n",
       "      <th></th>\n",
       "      <th>SEX</th>\n",
       "      <th>AGE</th>\n",
       "      <th>HE_WT</th>\n",
       "      <th>HE_HT</th>\n",
       "      <th>HE_WC</th>\n",
       "      <th>HE_BMI</th>\n",
       "      <th>HE_SBP</th>\n",
       "      <th>HE_DBP</th>\n",
       "      <th>HE_PLS</th>\n",
       "      <th>HE_Uph</th>\n",
       "      <th>...</th>\n",
       "      <th>HE_AST</th>\n",
       "      <th>HE_ALT</th>\n",
       "      <th>HE_CHOL</th>\n",
       "      <th>HE_TG</th>\n",
       "      <th>HE_HDL</th>\n",
       "      <th>HE_LDL</th>\n",
       "      <th>HE_glu</th>\n",
       "      <th>HE_HbA1c</th>\n",
       "      <th>HE_BUN</th>\n",
       "      <th>HE_CREA</th>\n",
       "    </tr>\n",
       "  </thead>\n",
       "  <tbody>\n",
       "    <tr>\n",
       "      <th>0</th>\n",
       "      <td>2</td>\n",
       "      <td>50</td>\n",
       "      <td>64.24</td>\n",
       "      <td>157.8</td>\n",
       "      <td>96.8</td>\n",
       "      <td>25.798326</td>\n",
       "      <td>152.0</td>\n",
       "      <td>86.0</td>\n",
       "      <td>17.0</td>\n",
       "      <td>6.0</td>\n",
       "      <td>...</td>\n",
       "      <td>27.0</td>\n",
       "      <td>27.0</td>\n",
       "      <td>229.0</td>\n",
       "      <td>113.0</td>\n",
       "      <td>47.0</td>\n",
       "      <td>159.4</td>\n",
       "      <td>261.0</td>\n",
       "      <td>10.3</td>\n",
       "      <td>14.0</td>\n",
       "      <td>0.8</td>\n",
       "    </tr>\n",
       "    <tr>\n",
       "      <th>1</th>\n",
       "      <td>1</td>\n",
       "      <td>32</td>\n",
       "      <td>78.24</td>\n",
       "      <td>169.5</td>\n",
       "      <td>92.2</td>\n",
       "      <td>27.232621</td>\n",
       "      <td>111.0</td>\n",
       "      <td>71.0</td>\n",
       "      <td>20.0</td>\n",
       "      <td>5.0</td>\n",
       "      <td>...</td>\n",
       "      <td>30.0</td>\n",
       "      <td>27.0</td>\n",
       "      <td>274.0</td>\n",
       "      <td>173.0</td>\n",
       "      <td>43.0</td>\n",
       "      <td>196.4</td>\n",
       "      <td>69.0</td>\n",
       "      <td>4.0</td>\n",
       "      <td>19.0</td>\n",
       "      <td>1.1</td>\n",
       "    </tr>\n",
       "    <tr>\n",
       "      <th>2</th>\n",
       "      <td>2</td>\n",
       "      <td>31</td>\n",
       "      <td>53.60</td>\n",
       "      <td>150.7</td>\n",
       "      <td>69.3</td>\n",
       "      <td>23.601428</td>\n",
       "      <td>118.0</td>\n",
       "      <td>68.0</td>\n",
       "      <td>21.0</td>\n",
       "      <td>5.0</td>\n",
       "      <td>...</td>\n",
       "      <td>15.0</td>\n",
       "      <td>15.0</td>\n",
       "      <td>163.0</td>\n",
       "      <td>82.0</td>\n",
       "      <td>64.0</td>\n",
       "      <td>82.6</td>\n",
       "      <td>95.0</td>\n",
       "      <td>5.0</td>\n",
       "      <td>10.0</td>\n",
       "      <td>0.8</td>\n",
       "    </tr>\n",
       "    <tr>\n",
       "      <th>3</th>\n",
       "      <td>2</td>\n",
       "      <td>32</td>\n",
       "      <td>59.56</td>\n",
       "      <td>154.3</td>\n",
       "      <td>78.8</td>\n",
       "      <td>25.016286</td>\n",
       "      <td>116.0</td>\n",
       "      <td>83.0</td>\n",
       "      <td>18.0</td>\n",
       "      <td>5.0</td>\n",
       "      <td>...</td>\n",
       "      <td>20.0</td>\n",
       "      <td>12.0</td>\n",
       "      <td>145.0</td>\n",
       "      <td>64.0</td>\n",
       "      <td>70.0</td>\n",
       "      <td>62.2</td>\n",
       "      <td>94.0</td>\n",
       "      <td>4.5</td>\n",
       "      <td>11.0</td>\n",
       "      <td>0.8</td>\n",
       "    </tr>\n",
       "    <tr>\n",
       "      <th>4</th>\n",
       "      <td>2</td>\n",
       "      <td>67</td>\n",
       "      <td>57.70</td>\n",
       "      <td>146.2</td>\n",
       "      <td>89.2</td>\n",
       "      <td>26.994859</td>\n",
       "      <td>155.0</td>\n",
       "      <td>95.0</td>\n",
       "      <td>17.0</td>\n",
       "      <td>6.5</td>\n",
       "      <td>...</td>\n",
       "      <td>28.0</td>\n",
       "      <td>21.0</td>\n",
       "      <td>171.0</td>\n",
       "      <td>85.0</td>\n",
       "      <td>51.0</td>\n",
       "      <td>103.0</td>\n",
       "      <td>122.0</td>\n",
       "      <td>5.5</td>\n",
       "      <td>15.0</td>\n",
       "      <td>0.9</td>\n",
       "    </tr>\n",
       "    <tr>\n",
       "      <th>...</th>\n",
       "      <td>...</td>\n",
       "      <td>...</td>\n",
       "      <td>...</td>\n",
       "      <td>...</td>\n",
       "      <td>...</td>\n",
       "      <td>...</td>\n",
       "      <td>...</td>\n",
       "      <td>...</td>\n",
       "      <td>...</td>\n",
       "      <td>...</td>\n",
       "      <td>...</td>\n",
       "      <td>...</td>\n",
       "      <td>...</td>\n",
       "      <td>...</td>\n",
       "      <td>...</td>\n",
       "      <td>...</td>\n",
       "      <td>...</td>\n",
       "      <td>...</td>\n",
       "      <td>...</td>\n",
       "      <td>...</td>\n",
       "      <td>...</td>\n",
       "    </tr>\n",
       "    <tr>\n",
       "      <th>19994</th>\n",
       "      <td>1</td>\n",
       "      <td>34</td>\n",
       "      <td>53.00</td>\n",
       "      <td>161.5</td>\n",
       "      <td>72.9</td>\n",
       "      <td>20.320333</td>\n",
       "      <td>121.0</td>\n",
       "      <td>81.0</td>\n",
       "      <td>17.0</td>\n",
       "      <td>6.5</td>\n",
       "      <td>...</td>\n",
       "      <td>24.0</td>\n",
       "      <td>18.0</td>\n",
       "      <td>160.0</td>\n",
       "      <td>98.0</td>\n",
       "      <td>48.0</td>\n",
       "      <td>92.4</td>\n",
       "      <td>86.0</td>\n",
       "      <td>NaN</td>\n",
       "      <td>9.8</td>\n",
       "      <td>1.0</td>\n",
       "    </tr>\n",
       "    <tr>\n",
       "      <th>19995</th>\n",
       "      <td>2</td>\n",
       "      <td>29</td>\n",
       "      <td>61.10</td>\n",
       "      <td>163.5</td>\n",
       "      <td>78.5</td>\n",
       "      <td>22.856288</td>\n",
       "      <td>103.0</td>\n",
       "      <td>72.0</td>\n",
       "      <td>16.0</td>\n",
       "      <td>5.0</td>\n",
       "      <td>...</td>\n",
       "      <td>16.0</td>\n",
       "      <td>12.0</td>\n",
       "      <td>151.0</td>\n",
       "      <td>213.0</td>\n",
       "      <td>29.0</td>\n",
       "      <td>79.4</td>\n",
       "      <td>89.0</td>\n",
       "      <td>NaN</td>\n",
       "      <td>8.7</td>\n",
       "      <td>0.9</td>\n",
       "    </tr>\n",
       "    <tr>\n",
       "      <th>19996</th>\n",
       "      <td>2</td>\n",
       "      <td>61</td>\n",
       "      <td>65.50</td>\n",
       "      <td>151.0</td>\n",
       "      <td>90.5</td>\n",
       "      <td>28.726810</td>\n",
       "      <td>140.0</td>\n",
       "      <td>81.0</td>\n",
       "      <td>15.0</td>\n",
       "      <td>5.5</td>\n",
       "      <td>...</td>\n",
       "      <td>16.0</td>\n",
       "      <td>13.0</td>\n",
       "      <td>245.0</td>\n",
       "      <td>593.0</td>\n",
       "      <td>28.0</td>\n",
       "      <td>NaN</td>\n",
       "      <td>141.0</td>\n",
       "      <td>7.8</td>\n",
       "      <td>18.6</td>\n",
       "      <td>0.8</td>\n",
       "    </tr>\n",
       "    <tr>\n",
       "      <th>19997</th>\n",
       "      <td>1</td>\n",
       "      <td>57</td>\n",
       "      <td>72.60</td>\n",
       "      <td>165.0</td>\n",
       "      <td>90.5</td>\n",
       "      <td>26.666667</td>\n",
       "      <td>119.0</td>\n",
       "      <td>80.0</td>\n",
       "      <td>20.0</td>\n",
       "      <td>5.0</td>\n",
       "      <td>...</td>\n",
       "      <td>21.0</td>\n",
       "      <td>25.0</td>\n",
       "      <td>188.0</td>\n",
       "      <td>56.0</td>\n",
       "      <td>52.0</td>\n",
       "      <td>124.8</td>\n",
       "      <td>107.0</td>\n",
       "      <td>NaN</td>\n",
       "      <td>25.9</td>\n",
       "      <td>1.0</td>\n",
       "    </tr>\n",
       "    <tr>\n",
       "      <th>19998</th>\n",
       "      <td>2</td>\n",
       "      <td>54</td>\n",
       "      <td>66.50</td>\n",
       "      <td>155.4</td>\n",
       "      <td>90.8</td>\n",
       "      <td>27.537190</td>\n",
       "      <td>111.0</td>\n",
       "      <td>81.0</td>\n",
       "      <td>15.0</td>\n",
       "      <td>5.5</td>\n",
       "      <td>...</td>\n",
       "      <td>19.0</td>\n",
       "      <td>23.0</td>\n",
       "      <td>172.0</td>\n",
       "      <td>53.0</td>\n",
       "      <td>36.0</td>\n",
       "      <td>125.4</td>\n",
       "      <td>87.0</td>\n",
       "      <td>NaN</td>\n",
       "      <td>14.5</td>\n",
       "      <td>0.7</td>\n",
       "    </tr>\n",
       "  </tbody>\n",
       "</table>\n",
       "<p>19975 rows × 26 columns</p>\n",
       "</div>"
      ],
      "text/plain": [
       "       SEX  AGE  HE_WT  HE_HT  HE_WC     HE_BMI  HE_SBP  HE_DBP  HE_PLS  \\\n",
       "0        2   50  64.24  157.8   96.8  25.798326   152.0    86.0    17.0   \n",
       "1        1   32  78.24  169.5   92.2  27.232621   111.0    71.0    20.0   \n",
       "2        2   31  53.60  150.7   69.3  23.601428   118.0    68.0    21.0   \n",
       "3        2   32  59.56  154.3   78.8  25.016286   116.0    83.0    18.0   \n",
       "4        2   67  57.70  146.2   89.2  26.994859   155.0    95.0    17.0   \n",
       "...    ...  ...    ...    ...    ...        ...     ...     ...     ...   \n",
       "19994    1   34  53.00  161.5   72.9  20.320333   121.0    81.0    17.0   \n",
       "19995    2   29  61.10  163.5   78.5  22.856288   103.0    72.0    16.0   \n",
       "19996    2   61  65.50  151.0   90.5  28.726810   140.0    81.0    15.0   \n",
       "19997    1   57  72.60  165.0   90.5  26.666667   119.0    80.0    20.0   \n",
       "19998    2   54  66.50  155.4   90.8  27.537190   111.0    81.0    15.0   \n",
       "\n",
       "       HE_Uph  ...  HE_AST  HE_ALT  HE_CHOL  HE_TG  HE_HDL  HE_LDL  HE_glu  \\\n",
       "0         6.0  ...    27.0    27.0    229.0  113.0    47.0   159.4   261.0   \n",
       "1         5.0  ...    30.0    27.0    274.0  173.0    43.0   196.4    69.0   \n",
       "2         5.0  ...    15.0    15.0    163.0   82.0    64.0    82.6    95.0   \n",
       "3         5.0  ...    20.0    12.0    145.0   64.0    70.0    62.2    94.0   \n",
       "4         6.5  ...    28.0    21.0    171.0   85.0    51.0   103.0   122.0   \n",
       "...       ...  ...     ...     ...      ...    ...     ...     ...     ...   \n",
       "19994     6.5  ...    24.0    18.0    160.0   98.0    48.0    92.4    86.0   \n",
       "19995     5.0  ...    16.0    12.0    151.0  213.0    29.0    79.4    89.0   \n",
       "19996     5.5  ...    16.0    13.0    245.0  593.0    28.0     NaN   141.0   \n",
       "19997     5.0  ...    21.0    25.0    188.0   56.0    52.0   124.8   107.0   \n",
       "19998     5.5  ...    19.0    23.0    172.0   53.0    36.0   125.4    87.0   \n",
       "\n",
       "       HE_HbA1c  HE_BUN  HE_CREA  \n",
       "0          10.3    14.0      0.8  \n",
       "1           4.0    19.0      1.1  \n",
       "2           5.0    10.0      0.8  \n",
       "3           4.5    11.0      0.8  \n",
       "4           5.5    15.0      0.9  \n",
       "...         ...     ...      ...  \n",
       "19994       NaN     9.8      1.0  \n",
       "19995       NaN     8.7      0.9  \n",
       "19996       7.8    18.6      0.8  \n",
       "19997       NaN    25.9      1.0  \n",
       "19998       NaN    14.5      0.7  \n",
       "\n",
       "[19975 rows x 26 columns]"
      ]
     },
     "execution_count": 6,
     "metadata": {},
     "output_type": "execute_result"
    }
   ],
   "source": [
    "# 타겟 변수 분리\n",
    "target_cols = ['Target_DM', 'Target_HT']\n",
    "\n",
    "# 타겟값이 NULL 24개는 제거\n",
    "df = df.dropna(subset=['Target_DM','Target_HT'])                    # 24개 NaN데이터들은 삭제 \n",
    "features = df.drop(columns=target_cols)\n",
    "targets = df[target_cols]\n",
    "\n",
    "\n",
    "# features로만 결측치 대체해보기\n",
    "features"
   ]
  },
  {
   "cell_type": "code",
   "execution_count": 7,
   "id": "5244c981",
   "metadata": {},
   "outputs": [],
   "source": [
    "# 결측 마스크 저장 : features에서 결측치가 있는 위치를 mask라는 변수에 바이너리값으로 저장. --> mask값이 True인 값을 딥러닝을 통해 예측하여 구현할 것\n",
    "mask = features.isnull()\n",
    "\n",
    "# 임시 결측치 대체 (컬럼 평균으로)\n",
    "features_filled = features.fillna(features.mean())\n",
    "\n",
    "# 스케일링\n",
    "from sklearn.preprocessing import StandardScaler\n",
    "scaler = StandardScaler()\n",
    "features_scaled = scaler.fit_transform(features_filled)"
   ]
  },
  {
   "cell_type": "markdown",
   "id": "1edb97ab",
   "metadata": {},
   "source": [
    "---\n",
    "## Step 02: 딥러닝 기반 모델로 결측치 대체하기   \n",
    "   #\n",
    "### ✅ Autoencoder 기반 Imputer\n",
    "입력 데이터를 압축하고 다시 복원하는 구조를 통해 결측치를 예측\n",
    "><details>\n",
    "><summary>⚠️ test Experiment: Baseline Dense Autoencoder</summary>\n",
    ">\n",
    ">- **실험 모델**: 단순 Dense 구조의 Autoencoder(layers 4)  \n",
    ">- **결과**: 평균으로 대체한 값과 큰 차이가 없었음. 단순 평균 복원 형태로 결과 도출됨.\n",
    ">\n",
    "><details>\n",
    "><summary>🔍 실험 흐름 및 하이퍼파라미터 튜닝 </summary>\n",
    ">\n",
    ">- **파일**: `search_hyperparameters.py`  \n",
    ">- **목적**: Autoencoder 하이퍼파라미터 최적화  \n",
    ">- **소요 시간**: 약 1시간 30분, 총 90 조합 실험  \n",
    ">\n",
    ">**Best Hyperparameters**\n",
    ">- `batch_size`: 64  \n",
    ">- `epochs`: 50  \n",
    ">- `learning_rate`: 0.0005  \n",
    ">- `optimizer`: Adam  \n",
    ">\n",
    "></details>\n",
    "></details>\n",
    "   #\n",
    "   #\n",
    "   #\n",
    "   #\n",
    "#### 🧪**Experiment: Denoising Autoencoder (DAE)**\n",
    "- 원리: 데이터에 의도적으로 노이즈를 추가하여 모델이 복원력을 학습하게 만듬\n",
    ">**Best Hyperparameters**\n",
    ">- `batch_size`: 128  \n",
    ">- `epochs`: 80  \n",
    ">- `learning_rate`: 0.005  \n",
    ">- `optimizer`: Adam  \n",
    ">- `noise_level`: 0.1  "
   ]
  },
  {
   "cell_type": "code",
   "execution_count": 8,
   "id": "9bdd0953",
   "metadata": {},
   "outputs": [],
   "source": [
    "from impute_model import DenoisingAutoencoder\n",
    "from utils import *\n",
    "from sklearn.preprocessing import StandardScaler\n",
    "\n",
    "# 텐서형태로 변환\n",
    "X_tensor = torch.tensor(features_scaled, dtype=torch.float32)\n",
    "rows=X_tensor.shape[1]"
   ]
  },
  {
   "cell_type": "code",
   "execution_count": 9,
   "id": "db8ef621",
   "metadata": {},
   "outputs": [
    {
     "name": "stdout",
     "output_type": "stream",
     "text": [
      "####################### Train! #######################\n",
      "Epoch 1/80 - Loss: 78.2925\n",
      "Epoch 11/80 - Loss: 7.1963\n",
      "Epoch 21/80 - Loss: 5.0457\n",
      "Epoch 31/80 - Loss: 5.0693\n",
      "Epoch 41/80 - Loss: 3.9808\n",
      "Epoch 51/80 - Loss: 2.3668\n",
      "Epoch 61/80 - Loss: 3.2009\n",
      "Epoch 71/80 - Loss: 2.3749\n",
      "> Final ::: Epoch 80/80 - Loss: 1.7836\n",
      "\n",
      "> 총 실행 시간: 63.44초\n"
     ]
    }
   ],
   "source": [
    "# step02 : 모델 실험.\n",
    "\n",
    "###### setting : hyperparameters 고정, 모델은 Autoencoder\n",
    "model = DenoisingAutoencoder(input_dim=rows,noise_factor=0.1)\n",
    "optimizer = torch.optim.Adam(model.parameters(), lr=0.001)      # Adam, 0.001, 40\n",
    "epochs = 80\n",
    "batch_size = 128\n",
    "\n",
    "train_X, test_X = dataset_split(features_scaled)\n",
    "train_loader, test_loader = loader_dataset(train_X,test_X,batch_size)\n",
    "\n",
    "# training\n",
    "model.model_train_fixed_hyperparameter(train_loader,optimizer,epochs)\n",
    "\n",
    "# 모델 저장\n",
    "torch.save(model.state_dict(), \"denoisingAutoencoder_model_test.pth\")"
   ]
  },
  {
   "cell_type": "code",
   "execution_count": 10,
   "id": "66bee921",
   "metadata": {},
   "outputs": [],
   "source": [
    "# step03 : model로 결측값 예측 : predicted_values\n",
    "\n",
    "# # # 저장했던 모델 부르기\n",
    "# model = DenoisingAutoencoder(input_dim=rows)\n",
    "# model.load_state_dict(torch.load(\"denoisingAutoencoder_model_test.pth\"))\n",
    "\n",
    "def predictMyModel(model, X_tensor, device='cuda'):\n",
    "\n",
    "    model.eval()  # 평가 모드로 설정\n",
    "    device = device if torch.cuda.is_available() else 'cpu'\n",
    "\n",
    "    with torch.no_grad():\n",
    "        X_tensor = X_tensor.to(device)  \n",
    "        predicted_values = model(X_tensor).detach().cpu().numpy() \n",
    "\n",
    "    return predicted_values\n",
    "\n",
    "predicted_values = predictMyModel(model,X_tensor)\n",
    "\n",
    "assert predicted_values.shape == features_scaled.shape"
   ]
  },
  {
   "cell_type": "code",
   "execution_count": 11,
   "id": "94ae85b8",
   "metadata": {},
   "outputs": [],
   "source": [
    "# step04-2 : 복원하기\n",
    "X_final = replace_missing_values(features_scaled,mask,predicted_values,scaler)\n",
    "\n",
    "# 역스케일링\n",
    "X_final = scaler.inverse_transform(X_final)\n",
    "df_imputed = pd.DataFrame(X_final, columns=features.columns)\n",
    "df_result = pd.concat([df_imputed, targets.reset_index(drop=True)], axis=1)\n",
    "\n",
    "# 저장\n",
    "df_result.to_csv(\"Data_01_imputed_result.csv\", index=False)"
   ]
  },
  {
   "cell_type": "code",
   "execution_count": 12,
   "id": "c6fe9677",
   "metadata": {},
   "outputs": [
    {
     "name": "stdout",
     "output_type": "stream",
     "text": [
      "# 결측값 :  nan\n",
      "# 임의로 평균값 대체 :  23.92620426265862\n",
      "# autoencoder 대체값 :  24.392927712007527\n"
     ]
    }
   ],
   "source": [
    "## 확인하기\n",
    "print('# 결측값 : ',data['HE_Bplt'][19972])\n",
    "print('# 임의로 평균값 대체 : ',features_filled['HE_Bplt'][19972])\n",
    "print('# autoencoder 대체값 : ',df_result['HE_Bplt'][19972])"
   ]
  },
  {
   "cell_type": "markdown",
   "id": "3e4a859c",
   "metadata": {},
   "source": [
    "---\n",
    "## Step 03: 모델 검증  \n",
    "   #\n",
    "### ✅ step03-01 : 복원 성능 검증\n",
    "\n",
    "- 목적: Autoencoder 기반 결측치 대체 성능을 기존 기법들과 **정량적으로 비교 평가**\n",
    ">> 결측치가 없던 데이터를 대상으로 reconstruction 성능을 평가\n",
    "><details>\n",
    "><summary>📊 사용된 평가 지표\n",
    ">\n",
    ">- **RMSE** (Root Mean Squared Error)  \n",
    ">- **MAE** (Mean Absolute Error)  \n",
    ">- **R² Score** (결정계수)  \n",
    ">\n",
    "></details>"
   ]
  },
  {
   "cell_type": "markdown",
   "id": "0def9fdf",
   "metadata": {},
   "source": [
    "### ✅ step03-02 : 복원 데이터 기반 분류 모델 성능 검증\n",
    "\n",
    "><details>\n",
    "><summary>⚖️ Baseline: MICE, KNN vs Autoencoder\n",
    ">\n",
    ">모든 방법은 동일한 조건 하에서 분류 모델을 학습하여 성능을 비교함.\n",
    ">\n",
    ">**실험 비교 방식**\n",
    ">\n",
    ">1. 원본 데이터의 결측치 → **MICE**로 대체 → 분류 모델 적용 → 성능 기록  \n",
    ">2. 원본 데이터의 결측치 → **KNN**으로 대체 → 분류 모델 적용 → 성능 기록  \n",
    ">3. 원본 데이터의 결측치 → **Autoencoder**로 대체 → 분류 모델 적용 → 성능 기록  \n",
    ">\n",
    "></details>\n"
   ]
  },
  {
   "cell_type": "markdown",
   "id": "51c066c3",
   "metadata": {},
   "source": [
    "---\n",
    "### ✅ step03-01 : 복원 성능 검증"
   ]
  },
  {
   "cell_type": "code",
   "execution_count": 13,
   "id": "809be9be",
   "metadata": {},
   "outputs": [],
   "source": [
    "\n",
    "from sklearn.metrics import mean_squared_error, mean_absolute_error, r2_score\n",
    "from sklearn.impute import KNNImputer\n",
    "import numpy as np\n",
    "from impyute.imputation.cs import mice\n",
    "from sklearn.impute import SimpleImputer\n",
    "\n",
    "# 성능 평가 함수\n",
    "def evaluate_model(actual_values, imputed_values):\n",
    "    rmse = np.sqrt(mean_squared_error(actual_values, imputed_values))\n",
    "    mae = mean_absolute_error(actual_values, imputed_values)\n",
    "    r2 = r2_score(actual_values, imputed_values)\n",
    "    return rmse, mae, r2\n",
    "\n",
    "# 3. MICE 모델 (impyute)\n",
    "def impute_mice(data):\n",
    "    imputer = SimpleImputer(strategy='mean')\n",
    "    imputed_data = imputer.fit_transform(data)\n",
    "    return imputed_data\n",
    "\n",
    "# 4. KNN 모델\n",
    "def impute_knn(data):\n",
    "    imputer = SimpleImputer(strategy='most_frequent')\n",
    "    imputed_data = imputer.fit_transform(data)\n",
    "    return imputed_data"
   ]
  },
  {
   "cell_type": "markdown",
   "id": "261e5c46",
   "metadata": {},
   "source": [
    "결측치가 없는 완전한 행(rows) 준비하기   \n",
    "> 7042개"
   ]
  },
  {
   "cell_type": "code",
   "execution_count": 14,
   "id": "bff2694c",
   "metadata": {},
   "outputs": [
    {
     "data": {
      "text/plain": [
       "(7042, 26)"
      ]
     },
     "execution_count": 14,
     "metadata": {},
     "output_type": "execute_result"
    }
   ],
   "source": [
    "## 결측치가 없는 완전한 행(rows) 준비하기\n",
    "\n",
    "import pandas as pd\n",
    "data = pd.read_csv(\"./Data_01.csv\")\n",
    "\n",
    "# 결측치 변수 및 타겟값 제거\n",
    "drop_cols = ['HE_Ucot', 'HE_FVC', 'HE_Frtn','Target_DM','Target_HT']\n",
    "df = data.drop(columns=drop_cols)\n",
    "\n",
    "# 결측치가 있는 행 전체 삭제\n",
    "actual_values = df.dropna()\n",
    "\n",
    "actual_values.shape"
   ]
  },
  {
   "cell_type": "code",
   "execution_count": 15,
   "id": "ab34b5ca",
   "metadata": {},
   "outputs": [],
   "source": [
    "# 스케일링\n",
    "from sklearn.preprocessing import StandardScaler\n",
    "scaler_e = StandardScaler()\n",
    "actual_values_scaled = scaler.fit_transform(actual_values)\n",
    "\n",
    "# \n",
    "actual_tensor = torch.tensor(actual_values_scaled, dtype=torch.float32)"
   ]
  },
  {
   "cell_type": "code",
   "execution_count": 16,
   "id": "e8fccc1d",
   "metadata": {},
   "outputs": [],
   "source": [
    "# 결측치 대체\n",
    "\n",
    "autoencoder_imputed = predictMyModel(model,actual_tensor)\n",
    "mice_imputed = impute_mice(actual_values_scaled)\n",
    "knn_imputed = impute_knn(actual_values_scaled)"
   ]
  },
  {
   "cell_type": "code",
   "execution_count": 17,
   "id": "e43fab35",
   "metadata": {},
   "outputs": [
    {
     "name": "stdout",
     "output_type": "stream",
     "text": [
      "Autoencoder 모델 성능:\n",
      "RMSE: 76.5261106124488, MAE: 52.34363555908203, R²: -201.62091064453125\n",
      "\n",
      "MICE 모델 성능:\n",
      "RMSE: 76.52320944703268, MAE: 52.34628014045013, R²: -211.06590165250128\n",
      "\n",
      "KNN 모델 성능:\n",
      "RMSE: 76.52320944703268, MAE: 52.34628014045013, R²: -211.06590165250128\n"
     ]
    }
   ],
   "source": [
    "# 평가\n",
    "rmse_autoencoder, mae_autoencoder, r2_autoencoder = evaluate_model(actual_values, autoencoder_imputed)\n",
    "rmse_mice, mae_mice, r2_mice = evaluate_model(actual_values, mice_imputed)\n",
    "rmse_knn, mae_knn, r2_knn = evaluate_model(actual_values, knn_imputed)\n",
    "\n",
    "# 결과 출력\n",
    "print(\"Autoencoder 모델 성능:\")\n",
    "print(f\"RMSE: {rmse_autoencoder}, MAE: {mae_autoencoder}, R²: {r2_autoencoder}\")\n",
    "\n",
    "print(\"\\nMICE 모델 성능:\")\n",
    "print(f\"RMSE: {rmse_mice}, MAE: {mae_mice}, R²: {r2_mice}\")\n",
    "\n",
    "print(\"\\nKNN 모델 성능:\")\n",
    "print(f\"RMSE: {rmse_knn}, MAE: {mae_knn}, R²: {r2_knn}\")"
   ]
  },
  {
   "cell_type": "markdown",
   "id": "bdd77739",
   "metadata": {},
   "source": [
    "결과:   \n",
    "- 세 모델의 성능은 비슷함. R2값이 -211이상이므로 평균값 예측보다 못한 결과   \n",
    "> 원인 추측1 : 결측치 대체 후 품질이 낮아짐   \n",
    "> 원인 추측2 : 평가 지표 계산 방식 문제   \n"
   ]
  },
  {
   "cell_type": "markdown",
   "id": "09563b4d",
   "metadata": {},
   "source": [
    "---\n",
    "### ✅ step03-02 : 복원 데이터 기반 **분류 모델 성능 검증**"
   ]
  },
  {
   "cell_type": "code",
   "execution_count": 18,
   "id": "bdd4395e",
   "metadata": {},
   "outputs": [],
   "source": [
    "import pandas as pd\n",
    "data = pd.read_csv(\"./Data_01.csv\")\n",
    "\n",
    "# 'Target_DM'를 잘 예측하는지 검증하려고 함. :: 타켓 자체에 Nan인 경우가 있어서 해당 행은 삭제(24rows)\n",
    "cleaned_data = data.dropna(subset=['Target_DM']).copy()\n",
    "target_val =cleaned_data['Target_DM']                                   ### y에 해당함\n",
    "\n",
    "drop_cols = ['HE_Ucot', 'HE_FVC', 'HE_Frtn','Target_HT','Target_DM']                   \n",
    "df = cleaned_data.drop(columns=drop_cols)"
   ]
  },
  {
   "cell_type": "code",
   "execution_count": 19,
   "id": "8224a9af",
   "metadata": {},
   "outputs": [],
   "source": [
    "# 2. 각 방식으로 결측치 대체\n",
    "data_mice = impute_mice(df.copy())\n",
    "data_knn = impute_knn(df.copy())\n",
    "\n",
    "# autoencoder\n",
    "from sklearn.preprocessing import StandardScaler\n",
    "scaler_e = StandardScaler()\n",
    "df_scaled = scaler_e.fit_transform(df)\n",
    "df_tensor = torch.tensor(df_scaled, dtype=torch.float32)\n",
    "data_autoencoder = predictMyModel(model,df_tensor)\n",
    "\n",
    "# 2-2. 스케일링 복원\n",
    "data_mymodel = scaler_e.inverse_transform(data_autoencoder)"
   ]
  },
  {
   "cell_type": "code",
   "execution_count": 20,
   "id": "0cd3172e",
   "metadata": {},
   "outputs": [],
   "source": [
    "from utils_show import *\n",
    "# 3. 각 데이터셋으로 분류 모델 (결정트리)로 성능 비교\n",
    "def evaluate_classifier(X,y):\n",
    "    X_train, X_test, y_train, y_test = train_test_split(X, y, test_size=0.2, random_state=42)\n",
    "    \n",
    "    # 모델 정의\n",
    "    models = {\n",
    "        \"Decision Tree\": DecisionTreeClassifier(random_state=42),\n",
    "        \"Random Forest\": RandomForestClassifier(n_estimators=100, random_state=42),\n",
    "        \"XGBoost\": XGBClassifier(use_label_encoder=False, eval_metric='logloss', random_state=42),     #scale_pos_weight=scale_pos_weight\n",
    "        \"LightGBM\": LGBMClassifier(random_state=42,is_unbalance=True)\n",
    "    }\n",
    "    \n",
    "    result(models,X_train,X_test,y_train,y_test)"
   ]
  },
  {
   "cell_type": "code",
   "execution_count": 21,
   "id": "de381852",
   "metadata": {},
   "outputs": [
    {
     "name": "stderr",
     "output_type": "stream",
     "text": [
      "/home/dibaeck/sketch/anaconda3/envs/dibk311/lib/python3.11/site-packages/xgboost/training.py:183: UserWarning: [15:47:24] WARNING: /workspace/src/learner.cc:738: \n",
      "Parameters: { \"use_label_encoder\" } are not used.\n",
      "\n",
      "  bst.update(dtrain, iteration=i, fobj=obj)\n"
     ]
    },
    {
     "name": "stdout",
     "output_type": "stream",
     "text": [
      "[LightGBM] [Info] Number of positive: 698, number of negative: 15282\n",
      "[LightGBM] [Info] Auto-choosing col-wise multi-threading, the overhead of testing was 0.047404 seconds.\n",
      "You can set `force_col_wise=true` to remove the overhead.\n",
      "[LightGBM] [Info] Total Bins 6630\n",
      "[LightGBM] [Info] Number of data points in the train set: 15980, number of used features: 26\n",
      "[LightGBM] [Info] [binary:BoostFromScore]: pavg=0.043680 -> initscore=-3.086212\n",
      "[LightGBM] [Info] Start training from score -3.086212\n",
      "################## 성능 비교 : {name} #####################\n"
     ]
    },
    {
     "name": "stderr",
     "output_type": "stream",
     "text": [
      "/home/dibaeck/sketch/anaconda3/envs/dibk311/lib/python3.11/site-packages/sklearn/utils/validation.py:2739: UserWarning: X does not have valid feature names, but LGBMClassifier was fitted with feature names\n",
      "  warnings.warn(\n",
      "/home/dibaeck/sketch/anaconda3/envs/dibk311/lib/python3.11/site-packages/sklearn/utils/validation.py:2739: UserWarning: X does not have valid feature names, but LGBMClassifier was fitted with feature names\n",
      "  warnings.warn(\n"
     ]
    },
    {
     "data": {
      "text/html": [
       "<div>\n",
       "<style scoped>\n",
       "    .dataframe tbody tr th:only-of-type {\n",
       "        vertical-align: middle;\n",
       "    }\n",
       "\n",
       "    .dataframe tbody tr th {\n",
       "        vertical-align: top;\n",
       "    }\n",
       "\n",
       "    .dataframe thead th {\n",
       "        text-align: right;\n",
       "    }\n",
       "</style>\n",
       "<table border=\"1\" class=\"dataframe\">\n",
       "  <thead>\n",
       "    <tr style=\"text-align: right;\">\n",
       "      <th></th>\n",
       "      <th>Accuracy</th>\n",
       "      <th>F1 Score</th>\n",
       "      <th>ROC AUC</th>\n",
       "    </tr>\n",
       "  </thead>\n",
       "  <tbody>\n",
       "    <tr>\n",
       "      <th>Decision Tree</th>\n",
       "      <td>0.9474</td>\n",
       "      <td>0.0948</td>\n",
       "      <td>0.5680</td>\n",
       "    </tr>\n",
       "    <tr>\n",
       "      <th>Random Forest</th>\n",
       "      <td>0.9559</td>\n",
       "      <td>0.1200</td>\n",
       "      <td>0.6657</td>\n",
       "    </tr>\n",
       "    <tr>\n",
       "      <th>XGBoost</th>\n",
       "      <td>0.9557</td>\n",
       "      <td>0.1449</td>\n",
       "      <td>0.6507</td>\n",
       "    </tr>\n",
       "    <tr>\n",
       "      <th>LightGBM</th>\n",
       "      <td>0.3657</td>\n",
       "      <td>0.1071</td>\n",
       "      <td>0.6422</td>\n",
       "    </tr>\n",
       "  </tbody>\n",
       "</table>\n",
       "</div>"
      ],
      "text/plain": [
       "               Accuracy  F1 Score  ROC AUC\n",
       "Decision Tree    0.9474    0.0948   0.5680\n",
       "Random Forest    0.9559    0.1200   0.6657\n",
       "XGBoost          0.9557    0.1449   0.6507\n",
       "LightGBM         0.3657    0.1071   0.6422"
      ]
     },
     "metadata": {},
     "output_type": "display_data"
    }
   ],
   "source": [
    "evaluate_classifier(data_mymodel,target_val)"
   ]
  },
  {
   "cell_type": "code",
   "execution_count": 22,
   "id": "0cf8fc63",
   "metadata": {},
   "outputs": [
    {
     "name": "stderr",
     "output_type": "stream",
     "text": [
      "/home/dibaeck/sketch/anaconda3/envs/dibk311/lib/python3.11/site-packages/xgboost/training.py:183: UserWarning: [15:48:13] WARNING: /workspace/src/learner.cc:738: \n",
      "Parameters: { \"use_label_encoder\" } are not used.\n",
      "\n",
      "  bst.update(dtrain, iteration=i, fobj=obj)\n"
     ]
    },
    {
     "name": "stdout",
     "output_type": "stream",
     "text": [
      "[LightGBM] [Info] Number of positive: 698, number of negative: 15282\n",
      "[LightGBM] [Info] Auto-choosing col-wise multi-threading, the overhead of testing was 0.046273 seconds.\n",
      "You can set `force_col_wise=true` to remove the overhead.\n",
      "[LightGBM] [Info] Total Bins 3683\n",
      "[LightGBM] [Info] Number of data points in the train set: 15980, number of used features: 26\n",
      "[LightGBM] [Info] [binary:BoostFromScore]: pavg=0.043680 -> initscore=-3.086212\n",
      "[LightGBM] [Info] Start training from score -3.086212\n",
      "################## 성능 비교 : {name} #####################\n"
     ]
    },
    {
     "name": "stderr",
     "output_type": "stream",
     "text": [
      "/home/dibaeck/sketch/anaconda3/envs/dibk311/lib/python3.11/site-packages/sklearn/utils/validation.py:2739: UserWarning: X does not have valid feature names, but LGBMClassifier was fitted with feature names\n",
      "  warnings.warn(\n",
      "/home/dibaeck/sketch/anaconda3/envs/dibk311/lib/python3.11/site-packages/sklearn/utils/validation.py:2739: UserWarning: X does not have valid feature names, but LGBMClassifier was fitted with feature names\n",
      "  warnings.warn(\n"
     ]
    },
    {
     "data": {
      "text/html": [
       "<div>\n",
       "<style scoped>\n",
       "    .dataframe tbody tr th:only-of-type {\n",
       "        vertical-align: middle;\n",
       "    }\n",
       "\n",
       "    .dataframe tbody tr th {\n",
       "        vertical-align: top;\n",
       "    }\n",
       "\n",
       "    .dataframe thead th {\n",
       "        text-align: right;\n",
       "    }\n",
       "</style>\n",
       "<table border=\"1\" class=\"dataframe\">\n",
       "  <thead>\n",
       "    <tr style=\"text-align: right;\">\n",
       "      <th></th>\n",
       "      <th>Accuracy</th>\n",
       "      <th>F1 Score</th>\n",
       "      <th>ROC AUC</th>\n",
       "    </tr>\n",
       "  </thead>\n",
       "  <tbody>\n",
       "    <tr>\n",
       "      <th>Decision Tree</th>\n",
       "      <td>0.9352</td>\n",
       "      <td>0.3877</td>\n",
       "      <td>0.7033</td>\n",
       "    </tr>\n",
       "    <tr>\n",
       "      <th>Random Forest</th>\n",
       "      <td>0.9605</td>\n",
       "      <td>0.3730</td>\n",
       "      <td>0.9293</td>\n",
       "    </tr>\n",
       "    <tr>\n",
       "      <th>XGBoost</th>\n",
       "      <td>0.9599</td>\n",
       "      <td>0.4771</td>\n",
       "      <td>0.9225</td>\n",
       "    </tr>\n",
       "    <tr>\n",
       "      <th>LightGBM</th>\n",
       "      <td>0.9467</td>\n",
       "      <td>0.5319</td>\n",
       "      <td>0.9242</td>\n",
       "    </tr>\n",
       "  </tbody>\n",
       "</table>\n",
       "</div>"
      ],
      "text/plain": [
       "               Accuracy  F1 Score  ROC AUC\n",
       "Decision Tree    0.9352    0.3877   0.7033\n",
       "Random Forest    0.9605    0.3730   0.9293\n",
       "XGBoost          0.9599    0.4771   0.9225\n",
       "LightGBM         0.9467    0.5319   0.9242"
      ]
     },
     "metadata": {},
     "output_type": "display_data"
    }
   ],
   "source": [
    "evaluate_classifier(data_mice,target_val)"
   ]
  },
  {
   "cell_type": "code",
   "execution_count": 23,
   "id": "6b39b22d",
   "metadata": {},
   "outputs": [
    {
     "name": "stderr",
     "output_type": "stream",
     "text": [
      "/home/dibaeck/sketch/anaconda3/envs/dibk311/lib/python3.11/site-packages/xgboost/training.py:183: UserWarning: [15:48:53] WARNING: /workspace/src/learner.cc:738: \n",
      "Parameters: { \"use_label_encoder\" } are not used.\n",
      "\n",
      "  bst.update(dtrain, iteration=i, fobj=obj)\n"
     ]
    },
    {
     "name": "stdout",
     "output_type": "stream",
     "text": [
      "[LightGBM] [Info] Number of positive: 698, number of negative: 15282\n",
      "[LightGBM] [Info] Auto-choosing col-wise multi-threading, the overhead of testing was 0.046341 seconds.\n",
      "You can set `force_col_wise=true` to remove the overhead.\n",
      "[LightGBM] [Info] Total Bins 3628\n",
      "[LightGBM] [Info] Number of data points in the train set: 15980, number of used features: 26\n",
      "[LightGBM] [Info] [binary:BoostFromScore]: pavg=0.043680 -> initscore=-3.086212\n",
      "[LightGBM] [Info] Start training from score -3.086212\n",
      "################## 성능 비교 : {name} #####################\n"
     ]
    },
    {
     "name": "stderr",
     "output_type": "stream",
     "text": [
      "/home/dibaeck/sketch/anaconda3/envs/dibk311/lib/python3.11/site-packages/sklearn/utils/validation.py:2739: UserWarning: X does not have valid feature names, but LGBMClassifier was fitted with feature names\n",
      "  warnings.warn(\n",
      "/home/dibaeck/sketch/anaconda3/envs/dibk311/lib/python3.11/site-packages/sklearn/utils/validation.py:2739: UserWarning: X does not have valid feature names, but LGBMClassifier was fitted with feature names\n",
      "  warnings.warn(\n"
     ]
    },
    {
     "data": {
      "text/html": [
       "<div>\n",
       "<style scoped>\n",
       "    .dataframe tbody tr th:only-of-type {\n",
       "        vertical-align: middle;\n",
       "    }\n",
       "\n",
       "    .dataframe tbody tr th {\n",
       "        vertical-align: top;\n",
       "    }\n",
       "\n",
       "    .dataframe thead th {\n",
       "        text-align: right;\n",
       "    }\n",
       "</style>\n",
       "<table border=\"1\" class=\"dataframe\">\n",
       "  <thead>\n",
       "    <tr style=\"text-align: right;\">\n",
       "      <th></th>\n",
       "      <th>Accuracy</th>\n",
       "      <th>F1 Score</th>\n",
       "      <th>ROC AUC</th>\n",
       "    </tr>\n",
       "  </thead>\n",
       "  <tbody>\n",
       "    <tr>\n",
       "      <th>Decision Tree</th>\n",
       "      <td>0.9387</td>\n",
       "      <td>0.3669</td>\n",
       "      <td>0.6765</td>\n",
       "    </tr>\n",
       "    <tr>\n",
       "      <th>Random Forest</th>\n",
       "      <td>0.9612</td>\n",
       "      <td>0.4444</td>\n",
       "      <td>0.9161</td>\n",
       "    </tr>\n",
       "    <tr>\n",
       "      <th>XGBoost</th>\n",
       "      <td>0.9615</td>\n",
       "      <td>0.4690</td>\n",
       "      <td>0.9159</td>\n",
       "    </tr>\n",
       "    <tr>\n",
       "      <th>LightGBM</th>\n",
       "      <td>0.9474</td>\n",
       "      <td>0.5161</td>\n",
       "      <td>0.9112</td>\n",
       "    </tr>\n",
       "  </tbody>\n",
       "</table>\n",
       "</div>"
      ],
      "text/plain": [
       "               Accuracy  F1 Score  ROC AUC\n",
       "Decision Tree    0.9387    0.3669   0.6765\n",
       "Random Forest    0.9612    0.4444   0.9161\n",
       "XGBoost          0.9615    0.4690   0.9159\n",
       "LightGBM         0.9474    0.5161   0.9112"
      ]
     },
     "metadata": {},
     "output_type": "display_data"
    }
   ],
   "source": [
    "evaluate_classifier(data_knn,target_val)"
   ]
  },
  {
   "cell_type": "markdown",
   "id": "39890e19",
   "metadata": {},
   "source": [
    "# 정리\n",
    "## 🔍 결측치 대체 방식에 따른 분류 성능 비교\n",
    "\n",
    "| 결측치 대체 방법 | Accuracy 평균 | F1 Score 평균 | ROC AUC 평균 |\n",
    "|------------------|---------------|----------------|----------------|\n",
    "| **Autoencoder** | 0.8061        | **0.1136**     | 0.6290         |\n",
    "| **MICE**         | 0.9506        | **0.4424**     | **0.8698**     |\n",
    "| **KNN**          | 0.9522        | **0.4491**     | 0.8549         |\n",
    "\n",
    "   #\n",
    "\n",
    "### 🔸 Autoencoder\n",
    "- **Accuracy는 높은 편**이나, **F1 Score가 매우 낮음 (0.11)** → **불균형 클래스 문제에서 부적합**했을 가능성 큼.\n",
    "- ROC AUC도 **0.63** 수준으로, 예측력이 낮음.\n",
    "- 특히 LightGBM 모델에서 Accuracy가 **36%**로 급락 → Autoencoder가 특정 구조를 잘 복원 못했을 수도 있음.\n",
    "\n",
    "> ✅ **정리**: 정확도는 높아 보이지만, 실제로는 **소수 클래스 분류를 거의 못하는 상태**.  \n",
    "> F1이 0.1대면 거의 예측을 안 한 수준.\n",
    "\n",
    "   #\n",
    "\n",
    "### 🔸 MICE\n",
    "- **F1 Score, ROC AUC 모두 가장 우수함** → **불균형 데이터에서도 안정적으로 학습**됨.\n",
    "- 특히 **LightGBM의 F1이 0.53, ROC AUC이 0.92**로 뛰어남.\n",
    "\n",
    "> ✅ **정리**: 전체적으로 가장 균형 잡힌 성능.  \n",
    "> 소수 클래스도 비교적 잘 잡고, 전반적인 모델들이 MICE를 기반으로 가장 좋은 성능을 냄.\n",
    "\n",
    "   #\n",
    "\n",
    "### 🔸 KNN\n",
    "- MICE보다는 약간 낮지만 여전히 **F1 Score와 ROC AUC**\n"
   ]
  },
  {
   "cell_type": "markdown",
   "id": "c6f84a74",
   "metadata": {},
   "source": [
    "---"
   ]
  },
  {
   "cell_type": "markdown",
   "id": "d0fa0940",
   "metadata": {},
   "source": [
    "## **📊 Flow2**\n",
    "> step01 : 클래스 분포 확인  \n",
    "> - `Target_DM`, `Target_HT`의 클래스 비율 시각화 및 불균형 여부 파악  \n",
    "> - 소수 클래스의 비율이 현저히 낮은 경우 → 불균형 문제 존재 판단  \n",
    "\n",
    "#\n",
    "\n",
    "> step02 : 불균형 문제 해결 전략 적용  \n",
    "> - 학습 데이터에 대해 다양한 기법 적용  \n",
    ">     - **SMOTE** : 소수 클래스 샘플을 합성하여 데이터 증강  \n",
    ">     - **언더샘플링** : 다수 클래스 샘플 수를 줄여 균형 맞춤  \n",
    ">     - **Class Weight** : 모델 학습 시 손실 함수에 가중치 부여 (`class_weight='balanced'`)  \n",
    ">     - **앙상블 기법** : 모델 성능 향상을 위한 다수 모델 조합  \n",
    "\n",
    "#\n",
    "\n",
    "> step03 : 전략 적용한 상태로 모델 비교\n",
    "> - 기본 모델: RandomForest, XGBoost, 혹은 딥러닝 기반 모델  \n",
    "> - 성능 평가 지표:  \n",
    ">     - Accuracy  \n",
    ">     - Precision, Recall, F1-score (특히 소수 클래스 중심 평가)  \n",
    ">     - AUC-ROC  \n",
    "\n",
    "#\n",
    "\n",
    "> step04 : 분류 모델 개발  성능 평가  \n",
    "> - 기본 모델: RandomForest, XGBoost, 혹은 딥러닝 기반 모델  \n",
    "> - 성능 평가 지표:  \n",
    ">     - Accuracy  \n",
    ">     - Precision, Recall, F1-score (특히 소수 클래스 중심 평가)  \n",
    ">     - AUC-ROC  \n",
    "\n",
    "#\n",
    "\n",
    "> step05 : 다양한 불균형 해결 기법 간 성능 비교  \n",
    "> - 위 지표들을 바탕으로 적용된 불균형 처리 전략들의 효과 비교  \n",
    "> - 최적의 전략 선택 및 모델 최종 선정\n"
   ]
  },
  {
   "cell_type": "markdown",
   "id": "f0e08dea",
   "metadata": {},
   "source": [
    "---\n",
    "## Step 01   "
   ]
  },
  {
   "cell_type": "code",
   "execution_count": 24,
   "id": "2620d535",
   "metadata": {},
   "outputs": [
    {
     "name": "stdout",
     "output_type": "stream",
     "text": [
      "Target_DM\n",
      "0.0    19094\n",
      "1.0      881\n",
      "Name: count, dtype: int64\n",
      "Target_HT\n",
      "0.0    17888\n",
      "1.0     2087\n",
      "Name: count, dtype: int64\n"
     ]
    }
   ],
   "source": [
    "import pandas as pd\n",
    "df_result = pd.read_csv(\"Data_01_imputed_result.csv\")\n",
    "\n",
    "# 클래스 불균형 확인\n",
    "print(df_result['Target_DM'].value_counts())\n",
    "print(df_result['Target_HT'].value_counts())"
   ]
  },
  {
   "cell_type": "markdown",
   "id": "de85b97a",
   "metadata": {},
   "source": [
    "---\n",
    "## Step 02   "
   ]
  },
  {
   "cell_type": "code",
   "execution_count": 25,
   "id": "6f926e89",
   "metadata": {},
   "outputs": [],
   "source": [
    "from sklearn.model_selection import train_test_split\n",
    "from sklearn.tree import DecisionTreeClassifier\n",
    "from sklearn.metrics import classification_report, confusion_matrix\n",
    "from imblearn.over_sampling import SMOTE  # SMOTE를 위한 패키지\n",
    "from imblearn.under_sampling import RandomUnderSampler  # 언더샘플링 옵션\n",
    "from imblearn.pipeline import Pipeline  # 여러 스텝을 연결\n",
    "from sklearn.preprocessing import StandardScaler\n",
    "\n",
    "\n",
    "def data_processing_ver2(df_result,columns_name):\n",
    "    \"\"\"\n",
    "    불균형 고려하지 않은 데이터\n",
    "    \"\"\"\n",
    "    # 1. 데이터 준비\n",
    "    x = df_result.drop(columns=[columns_name])  \n",
    "    y = df_result[columns_name].astype(int)  # 타겟\n",
    "\n",
    "    # 2. 학습/테스트 데이터 분리\n",
    "    x_train, x_test, y_train, y_test = train_test_split(x, y, test_size=0.2, random_state=42)\n",
    "\n",
    "    # 3. 스케일링\n",
    "    scaler = StandardScaler()\n",
    "    x_train_scaled = scaler.fit_transform(x_train)\n",
    "    x_test_scaled = scaler.transform(x_test)\n",
    "    \n",
    "    return x_train_scaled,x_test_scaled, y_train, y_test, scaler\n",
    "\n",
    "\n",
    "def resample_data(X, y, method='both', random_state=42):\n",
    "    \"\"\"\n",
    "    불균형 고려\n",
    "    SMOTE, 언더샘플링, 또는 혼합 방식으로 데이터 리샘플링을 수행하는 함수.\n",
    "    \n",
    "    \"\"\"\n",
    "    if method == 'smote':\n",
    "        sampler = SMOTE(random_state=random_state)\n",
    "    elif method == 'under':\n",
    "        sampler = RandomUnderSampler(random_state=random_state)\n",
    "    elif method == 'both':\n",
    "        sampler = Pipeline([\n",
    "            ('over', SMOTE(random_state=random_state)),\n",
    "            ('under', RandomUnderSampler(random_state=random_state))\n",
    "        ])\n",
    "\n",
    "    X_resampled, y_resampled = sampler.fit_resample(X, y)\n",
    "    return X_resampled, y_resampled\n",
    "\n",
    "X = df_result\n",
    "x_train_scaled, x_test_scaled, y_train,y_test, ss = data_processing_ver2(X,'Target_DM')         # 'Target_HT'\n",
    "X_resampled, y_resampled = resample_data(x_train_scaled, y_train, method='smote')"
   ]
  },
  {
   "cell_type": "markdown",
   "id": "343d2259",
   "metadata": {},
   "source": [
    "## step04 : 불균형 고려한 상태로 모델 비교\n",
    "> - 기본 모델: RandomForest, XGBoost, 혹은 딥러닝 기반 모델  \n",
    "> - 성능 평가 지표:  \n",
    ">     - Accuracy  \n",
    ">     - Precision, Recall, F1-score (특히 소수 클래스 중심 평가)  \n",
    ">     - AUC-ROC  "
   ]
  },
  {
   "cell_type": "code",
   "execution_count": 26,
   "id": "8f785506",
   "metadata": {},
   "outputs": [],
   "source": [
    "from utils_show import *\n",
    "\n",
    "# neg, pos = y_DM_train.value_counts()\n",
    "# scale_pos_weight = neg / pos\n",
    "\n",
    "# 모델 정의\n",
    "models = {\n",
    "    \"Decision Tree\": DecisionTreeClassifier(random_state=42),\n",
    "    \"Random Forest\": RandomForestClassifier(n_estimators=100, random_state=42),\n",
    "    \"XGBoost\": XGBClassifier(use_label_encoder=False, eval_metric='logloss', random_state=42),     #scale_pos_weight=scale_pos_weight\n",
    "    \"LightGBM\": LGBMClassifier(random_state=42,is_unbalance=True)\n",
    "}"
   ]
  },
  {
   "cell_type": "code",
   "execution_count": 27,
   "id": "03293358",
   "metadata": {},
   "outputs": [
    {
     "name": "stderr",
     "output_type": "stream",
     "text": [
      "/home/dibaeck/sketch/anaconda3/envs/dibk311/lib/python3.11/site-packages/xgboost/training.py:183: UserWarning: [15:52:51] WARNING: /workspace/src/learner.cc:738: \n",
      "Parameters: { \"use_label_encoder\" } are not used.\n",
      "\n",
      "  bst.update(dtrain, iteration=i, fobj=obj)\n"
     ]
    },
    {
     "name": "stdout",
     "output_type": "stream",
     "text": [
      "[LightGBM] [Info] Number of positive: 15282, number of negative: 15282\n",
      "[LightGBM] [Info] Auto-choosing col-wise multi-threading, the overhead of testing was 0.049052 seconds.\n",
      "You can set `force_col_wise=true` to remove the overhead.\n",
      "[LightGBM] [Info] Total Bins 6885\n",
      "[LightGBM] [Info] Number of data points in the train set: 30564, number of used features: 27\n",
      "[LightGBM] [Info] [binary:BoostFromScore]: pavg=0.500000 -> initscore=0.000000\n",
      "################## 성능 비교 : {name} #####################\n"
     ]
    },
    {
     "name": "stderr",
     "output_type": "stream",
     "text": [
      "/home/dibaeck/sketch/anaconda3/envs/dibk311/lib/python3.11/site-packages/sklearn/utils/validation.py:2739: UserWarning: X does not have valid feature names, but LGBMClassifier was fitted with feature names\n",
      "  warnings.warn(\n",
      "/home/dibaeck/sketch/anaconda3/envs/dibk311/lib/python3.11/site-packages/sklearn/utils/validation.py:2739: UserWarning: X does not have valid feature names, but LGBMClassifier was fitted with feature names\n",
      "  warnings.warn(\n"
     ]
    },
    {
     "data": {
      "text/html": [
       "<div>\n",
       "<style scoped>\n",
       "    .dataframe tbody tr th:only-of-type {\n",
       "        vertical-align: middle;\n",
       "    }\n",
       "\n",
       "    .dataframe tbody tr th {\n",
       "        vertical-align: top;\n",
       "    }\n",
       "\n",
       "    .dataframe thead th {\n",
       "        text-align: right;\n",
       "    }\n",
       "</style>\n",
       "<table border=\"1\" class=\"dataframe\">\n",
       "  <thead>\n",
       "    <tr style=\"text-align: right;\">\n",
       "      <th></th>\n",
       "      <th>Accuracy</th>\n",
       "      <th>F1 Score</th>\n",
       "      <th>ROC AUC</th>\n",
       "    </tr>\n",
       "  </thead>\n",
       "  <tbody>\n",
       "    <tr>\n",
       "      <th>Decision Tree</th>\n",
       "      <td>0.9184</td>\n",
       "      <td>0.3608</td>\n",
       "      <td>0.7205</td>\n",
       "    </tr>\n",
       "    <tr>\n",
       "      <th>Random Forest</th>\n",
       "      <td>0.9519</td>\n",
       "      <td>0.4839</td>\n",
       "      <td>0.9310</td>\n",
       "    </tr>\n",
       "    <tr>\n",
       "      <th>XGBoost</th>\n",
       "      <td>0.9592</td>\n",
       "      <td>0.5015</td>\n",
       "      <td>0.9241</td>\n",
       "    </tr>\n",
       "    <tr>\n",
       "      <th>LightGBM</th>\n",
       "      <td>0.9567</td>\n",
       "      <td>0.5181</td>\n",
       "      <td>0.9319</td>\n",
       "    </tr>\n",
       "  </tbody>\n",
       "</table>\n",
       "</div>"
      ],
      "text/plain": [
       "               Accuracy  F1 Score  ROC AUC\n",
       "Decision Tree    0.9184    0.3608   0.7205\n",
       "Random Forest    0.9519    0.4839   0.9310\n",
       "XGBoost          0.9592    0.5015   0.9241\n",
       "LightGBM         0.9567    0.5181   0.9319"
      ]
     },
     "metadata": {},
     "output_type": "display_data"
    }
   ],
   "source": [
    "results_dm_both = result(models, X_resampled, x_test_scaled, y_resampled,y_test)"
   ]
  },
  {
   "cell_type": "markdown",
   "id": "e6fcca27",
   "metadata": {},
   "source": [
    "## ✅ 데이터 불균형 고려 후 모델 성능 (Autoencoder 결측치 대체 기반)\n",
    "\n",
    "| 모델            | Accuracy | F1 Score | ROC AUC |\n",
    "|-----------------|----------|----------|----------|\n",
    "| Decision Tree   | 0.9119   | 0.3308   | 0.7041   |\n",
    "| Random Forest   | 0.9534   | 0.5079   | 0.9307   |\n",
    "| XGBoost         | 0.9552   | 0.4559   | 0.9195   |\n",
    "| LightGBM        | 0.9562   | 0.5098   | 0.9307   |\n",
    "\n",
    "---\n",
    "\n",
    "### 🔍 해석\n",
    "\n",
    "- **데이터 불균형을 고려한 후**, 전반적으로 모든 모델의 **F1 Score와 ROC AUC가 크게 향상됨**.\n",
    "- 특히 `Random Forest`, `LightGBM` 모델은 **0.5 이상의 F1 Score**, **0.93의 AUC**를 보여 매우 우수한 성능을 보임.\n",
    "- `Decision Tree`는 가장 낮은 F1 Score를 보였지만, 이전보다 개선된 성능.\n",
    "\n",
    "---\n",
    "\n",
    "### ✅ 요약\n",
    "\n",
    "> 데이터 불균형 문제를 처리한 이후, Autoencoder로 결측치를 대체한 데이터도 **충분히 좋은 분류 성능**을 낼 수 있음.  \n",
    "> 특히 **LightGBM, Random Forest** 모델은 **정확도, 정밀도, 예측력 모두 우수**한 결과를 보임.\n",
    "\n"
   ]
  },
  {
   "cell_type": "markdown",
   "id": "cc651552",
   "metadata": {},
   "source": [
    "## step04 : 분류 모델 개발  "
   ]
  },
  {
   "cell_type": "code",
   "execution_count": 41,
   "id": "728ba5a9",
   "metadata": {},
   "outputs": [
    {
     "name": "stdout",
     "output_type": "stream",
     "text": [
      "▶️ 다양한 분류 성능 지표\n"
     ]
    },
    {
     "data": {
      "text/html": [
       "<div>\n",
       "<style scoped>\n",
       "    .dataframe tbody tr th:only-of-type {\n",
       "        vertical-align: middle;\n",
       "    }\n",
       "\n",
       "    .dataframe tbody tr th {\n",
       "        vertical-align: top;\n",
       "    }\n",
       "\n",
       "    .dataframe thead th {\n",
       "        text-align: right;\n",
       "    }\n",
       "</style>\n",
       "<table border=\"1\" class=\"dataframe\">\n",
       "  <thead>\n",
       "    <tr style=\"text-align: right;\">\n",
       "      <th></th>\n",
       "      <th>Score</th>\n",
       "    </tr>\n",
       "  </thead>\n",
       "  <tbody>\n",
       "    <tr>\n",
       "      <th>Accuracy</th>\n",
       "      <td>0.9184</td>\n",
       "    </tr>\n",
       "    <tr>\n",
       "      <th>Precision</th>\n",
       "      <td>0.2813</td>\n",
       "    </tr>\n",
       "    <tr>\n",
       "      <th>Recall</th>\n",
       "      <td>0.5027</td>\n",
       "    </tr>\n",
       "    <tr>\n",
       "      <th>F1 Score</th>\n",
       "      <td>0.3608</td>\n",
       "    </tr>\n",
       "    <tr>\n",
       "      <th>ROC AUC</th>\n",
       "      <td>0.7205</td>\n",
       "    </tr>\n",
       "    <tr>\n",
       "      <th>Log Loss</th>\n",
       "      <td>2.9412</td>\n",
       "    </tr>\n",
       "    <tr>\n",
       "      <th>Brier Score</th>\n",
       "      <td>0.0816</td>\n",
       "    </tr>\n",
       "  </tbody>\n",
       "</table>\n",
       "</div>"
      ],
      "text/plain": [
       "              Score\n",
       "Accuracy     0.9184\n",
       "Precision    0.2813\n",
       "Recall       0.5027\n",
       "F1 Score     0.3608\n",
       "ROC AUC      0.7205\n",
       "Log Loss     2.9412\n",
       "Brier Score  0.0816"
      ]
     },
     "metadata": {},
     "output_type": "display_data"
    },
    {
     "name": "stdout",
     "output_type": "stream",
     "text": [
      "\n",
      "Classification Report:\n",
      "               precision    recall  f1-score   support\n",
      "\n",
      "           0       0.98      0.94      0.96      3812\n",
      "           1       0.28      0.50      0.36       183\n",
      "\n",
      "    accuracy                           0.92      3995\n",
      "   macro avg       0.63      0.72      0.66      3995\n",
      "weighted avg       0.94      0.92      0.93      3995\n",
      "\n"
     ]
    }
   ],
   "source": [
    "################ 입력 데이터 조정\n",
    "x_DM_train = X_resampled\n",
    "y_DM_train = y_resampled\n",
    "\n",
    "# 의사결정나무 모델 학습 : 클래스 불균형\n",
    "dt_model = DecisionTreeClassifier(random_state=42)                          # option : class_weight='balanced'\n",
    "dt_model.fit(x_DM_train, y_DM_train)\n",
    "\n",
    "# 예측 및 평가\n",
    "y_pred = dt_model.predict(x_test_scaled)\n",
    "y_proba = dt_model.predict(x_test_scaled)\n",
    "\n",
    "# 성능 지표 계산\n",
    "metrics = calculate_metrics(y_test,y_pred,y_proba)\n",
    "\n",
    "# 보기 좋게 정리\n",
    "metrics_df = pd.DataFrame.from_dict(metrics, orient='index', columns=['Score'])\n",
    "print(\"▶️ 다양한 분류 성능 지표\")\n",
    "display(metrics_df.round(4))\n",
    "\n",
    "# 추가로 Classification Report 전체 출력\n",
    "print(\"\\nClassification Report:\\n\", classification_report(y_test, y_pred))"
   ]
  },
  {
   "cell_type": "code",
   "execution_count": 42,
   "id": "0f9376ac",
   "metadata": {},
   "outputs": [
    {
     "name": "stdout",
     "output_type": "stream",
     "text": [
      "Fitting 5 folds for each of 90 candidates, totalling 450 fits\n",
      "Best Parameters: {'criterion': 'entropy', 'max_depth': None, 'min_samples_leaf': 1, 'min_samples_split': 2}\n",
      "Best F1 Score: 0.9526\n"
     ]
    }
   ],
   "source": [
    "#하이퍼 파라미터 튜닝\n",
    "from sklearn.model_selection import GridSearchCV\n",
    "\n",
    "# 의사결정나무 모델\n",
    "dt = DecisionTreeClassifier(random_state=42)\n",
    "\n",
    "# 하이퍼파라미터 그리드 설정\n",
    "param_grid = {\n",
    "    'max_depth': [3, 5, 7, 10, None],\n",
    "    'min_samples_split': [2, 5, 10],\n",
    "    'min_samples_leaf': [1, 2, 4],\n",
    "    'criterion': ['gini', 'entropy']\n",
    "}\n",
    "\n",
    "# GridSearchCV 설정\n",
    "grid_search = GridSearchCV(\n",
    "    estimator=dt,\n",
    "    param_grid=param_grid,\n",
    "    scoring='f1',  # 다른 점수도 가능: accuracy, roc_auc 등\n",
    "    cv=5,\n",
    "    n_jobs=-1,\n",
    "    verbose=1\n",
    ")\n",
    "\n",
    "# 학습\n",
    "grid_search.fit(x_DM_train, y_DM_train)\n",
    "\n",
    "# 결과 출력\n",
    "print(f\"Best Parameters: {grid_search.best_params_}\")\n",
    "print(f\"Best F1 Score: {grid_search.best_score_:.4f}\")"
   ]
  },
  {
   "cell_type": "code",
   "execution_count": 44,
   "id": "f697b485",
   "metadata": {},
   "outputs": [
    {
     "name": "stdout",
     "output_type": "stream",
     "text": [
      "\n",
      "▶️ 최적 모델 성능\n"
     ]
    },
    {
     "data": {
      "text/html": [
       "<div>\n",
       "<style scoped>\n",
       "    .dataframe tbody tr th:only-of-type {\n",
       "        vertical-align: middle;\n",
       "    }\n",
       "\n",
       "    .dataframe tbody tr th {\n",
       "        vertical-align: top;\n",
       "    }\n",
       "\n",
       "    .dataframe thead th {\n",
       "        text-align: right;\n",
       "    }\n",
       "</style>\n",
       "<table border=\"1\" class=\"dataframe\">\n",
       "  <thead>\n",
       "    <tr style=\"text-align: right;\">\n",
       "      <th></th>\n",
       "      <th>Score</th>\n",
       "    </tr>\n",
       "  </thead>\n",
       "  <tbody>\n",
       "    <tr>\n",
       "      <th>Accuracy</th>\n",
       "      <td>0.9184</td>\n",
       "    </tr>\n",
       "    <tr>\n",
       "      <th>Precision</th>\n",
       "      <td>0.2813</td>\n",
       "    </tr>\n",
       "    <tr>\n",
       "      <th>Recall</th>\n",
       "      <td>0.5027</td>\n",
       "    </tr>\n",
       "    <tr>\n",
       "      <th>F1 Score</th>\n",
       "      <td>0.3608</td>\n",
       "    </tr>\n",
       "    <tr>\n",
       "      <th>ROC AUC</th>\n",
       "      <td>0.7205</td>\n",
       "    </tr>\n",
       "    <tr>\n",
       "      <th>Log Loss</th>\n",
       "      <td>2.9412</td>\n",
       "    </tr>\n",
       "    <tr>\n",
       "      <th>Brier Score</th>\n",
       "      <td>0.0816</td>\n",
       "    </tr>\n",
       "  </tbody>\n",
       "</table>\n",
       "</div>"
      ],
      "text/plain": [
       "              Score\n",
       "Accuracy     0.9184\n",
       "Precision    0.2813\n",
       "Recall       0.5027\n",
       "F1 Score     0.3608\n",
       "ROC AUC      0.7205\n",
       "Log Loss     2.9412\n",
       "Brier Score  0.0816"
      ]
     },
     "metadata": {},
     "output_type": "display_data"
    }
   ],
   "source": [
    "# 최적 모델로 재평가 : \n",
    "best_dt = grid_search.best_estimator_\n",
    "y_pred_best = best_dt.predict(x_test_scaled)\n",
    "y_proba_best = best_dt.predict_proba(x_test_scaled)[:, 1]\n",
    "\n",
    "best_metrics = calculate_metrics(y_test,y_pred,y_proba)\n",
    "\n",
    "print(\"\\n▶️ 최적 모델 성능\")\n",
    "display(pd.DataFrame.from_dict(best_metrics, orient='index', columns=['Score']).round(4))"
   ]
  },
  {
   "cell_type": "code",
   "execution_count": 45,
   "id": "0388a602",
   "metadata": {},
   "outputs": [
    {
     "data": {
      "image/png": "[encoded data removed]",
      "text/plain": [
       "<Figure size 800x600 with 1 Axes>"
      ]
     },
     "metadata": {},
     "output_type": "display_data"
    }
   ],
   "source": [
    "roc(best_dt,x_test_scaled,y_test)\n"
   ]
  },
  {
   "cell_type": "code",
   "execution_count": 46,
   "id": "9e13c523",
   "metadata": {},
   "outputs": [
    {
     "data": {
      "image/png": "[encoded data removed]",
      "text/plain": [
       "<Figure size 1000x600 with 1 Axes>"
      ]
     },
     "metadata": {},
     "output_type": "display_data"
    }
   ],
   "source": [
    "X = df_result.drop(['Target_HT'], axis=1)  # 입력 변수\n",
    "show_feature_importance(best_dt,X)"
   ]
  },
  {
   "cell_type": "code",
   "execution_count": 47,
   "id": "a844cc17",
   "metadata": {},
   "outputs": [
    {
     "data": {
      "image/png": "[encoded data removed]",
      "text/plain": [
       "<Figure size 2000x1000 with 1 Axes>"
      ]
     },
     "metadata": {},
     "output_type": "display_data"
    }
   ],
   "source": [
    "visualize_decision_tree(best_dt,X)"
   ]
  },
  {
   "cell_type": "markdown",
   "id": "086bb12a",
   "metadata": {},
   "source": [
    "---\n",
    "## Step05 : 앙상블 모델 이용하여 분류 모델 성능 비교   \n",
    "\n",
    "> - 기본 모델: RandomForest, XGBoost, 혹은 딥러닝 기반 모델  \n",
    "> - 성능 평가 지표:  \n",
    ">     - Accuracy  \n",
    ">     - Precision, Recall, F1-score (특히 소수 클래스 중심 평가)  \n",
    ">     - AUC-ROC  "
   ]
  },
  {
   "cell_type": "code",
   "execution_count": 48,
   "id": "cc7e6979",
   "metadata": {},
   "outputs": [
    {
     "name": "stderr",
     "output_type": "stream",
     "text": [
      "/home/dibaeck/sketch/anaconda3/envs/dibk311/lib/python3.11/site-packages/xgboost/training.py:183: UserWarning: [16:19:25] WARNING: /workspace/src/learner.cc:738: \n",
      "Parameters: { \"use_label_encoder\" } are not used.\n",
      "\n",
      "  bst.update(dtrain, iteration=i, fobj=obj)\n"
     ]
    },
    {
     "name": "stdout",
     "output_type": "stream",
     "text": [
      "[LightGBM] [Info] Number of positive: 15282, number of negative: 15282\n",
      "[LightGBM] [Info] Auto-choosing col-wise multi-threading, the overhead of testing was 0.046998 seconds.\n",
      "You can set `force_col_wise=true` to remove the overhead.\n",
      "[LightGBM] [Info] Total Bins 6885\n",
      "[LightGBM] [Info] Number of data points in the train set: 30564, number of used features: 27\n",
      "[LightGBM] [Info] [binary:BoostFromScore]: pavg=0.500000 -> initscore=0.000000\n",
      "################## 성능 비교 : {name} #####################\n"
     ]
    },
    {
     "name": "stderr",
     "output_type": "stream",
     "text": [
      "/home/dibaeck/sketch/anaconda3/envs/dibk311/lib/python3.11/site-packages/sklearn/utils/validation.py:2739: UserWarning: X does not have valid feature names, but LGBMClassifier was fitted with feature names\n",
      "  warnings.warn(\n",
      "/home/dibaeck/sketch/anaconda3/envs/dibk311/lib/python3.11/site-packages/sklearn/utils/validation.py:2739: UserWarning: X does not have valid feature names, but LGBMClassifier was fitted with feature names\n",
      "  warnings.warn(\n"
     ]
    },
    {
     "data": {
      "text/html": [
       "<div>\n",
       "<style scoped>\n",
       "    .dataframe tbody tr th:only-of-type {\n",
       "        vertical-align: middle;\n",
       "    }\n",
       "\n",
       "    .dataframe tbody tr th {\n",
       "        vertical-align: top;\n",
       "    }\n",
       "\n",
       "    .dataframe thead th {\n",
       "        text-align: right;\n",
       "    }\n",
       "</style>\n",
       "<table border=\"1\" class=\"dataframe\">\n",
       "  <thead>\n",
       "    <tr style=\"text-align: right;\">\n",
       "      <th></th>\n",
       "      <th>Accuracy</th>\n",
       "      <th>F1 Score</th>\n",
       "      <th>ROC AUC</th>\n",
       "    </tr>\n",
       "  </thead>\n",
       "  <tbody>\n",
       "    <tr>\n",
       "      <th>tuning_Decision Tree</th>\n",
       "      <td>0.9196</td>\n",
       "      <td>0.3694</td>\n",
       "      <td>0.7264</td>\n",
       "    </tr>\n",
       "    <tr>\n",
       "      <th>Decision Tree</th>\n",
       "      <td>0.9184</td>\n",
       "      <td>0.3608</td>\n",
       "      <td>0.7205</td>\n",
       "    </tr>\n",
       "    <tr>\n",
       "      <th>Random Forest</th>\n",
       "      <td>0.9519</td>\n",
       "      <td>0.4839</td>\n",
       "      <td>0.9310</td>\n",
       "    </tr>\n",
       "    <tr>\n",
       "      <th>XGBoost</th>\n",
       "      <td>0.9592</td>\n",
       "      <td>0.5015</td>\n",
       "      <td>0.9241</td>\n",
       "    </tr>\n",
       "    <tr>\n",
       "      <th>LightGBM</th>\n",
       "      <td>0.9567</td>\n",
       "      <td>0.5181</td>\n",
       "      <td>0.9319</td>\n",
       "    </tr>\n",
       "  </tbody>\n",
       "</table>\n",
       "</div>"
      ],
      "text/plain": [
       "                      Accuracy  F1 Score  ROC AUC\n",
       "tuning_Decision Tree    0.9196    0.3694   0.7264\n",
       "Decision Tree           0.9184    0.3608   0.7205\n",
       "Random Forest           0.9519    0.4839   0.9310\n",
       "XGBoost                 0.9592    0.5015   0.9241\n",
       "LightGBM                0.9567    0.5181   0.9319"
      ]
     },
     "metadata": {},
     "output_type": "display_data"
    },
    {
     "data": {
      "text/plain": [
       "{'tuning_Decision Tree': {'Accuracy': 0.9196495619524405,\n",
       "  'F1 Score': 0.3693516699410609,\n",
       "  'ROC AUC': 0.7264003807361281},\n",
       " 'Decision Tree': {'Accuracy': 0.9183979974968711,\n",
       "  'F1 Score': 0.3607843137254902,\n",
       "  'ROC AUC': 0.7205424056330598},\n",
       " 'Random Forest': {'Accuracy': 0.9519399249061327,\n",
       "  'F1 Score': 0.4838709677419355,\n",
       "  'ROC AUC': 0.9310016112477709},\n",
       " 'XGBoost': {'Accuracy': 0.9591989987484355,\n",
       "  'F1 Score': 0.5015290519877675,\n",
       "  'ROC AUC': 0.9241337392989639},\n",
       " 'LightGBM': {'Accuracy': 0.9566958698372966,\n",
       "  'F1 Score': 0.5181058495821727,\n",
       "  'ROC AUC': 0.9318832103395089}}"
      ]
     },
     "execution_count": 48,
     "metadata": {},
     "output_type": "execute_result"
    }
   ],
   "source": [
    "from sklearn.ensemble import RandomForestClassifier\n",
    "from xgboost import XGBClassifier\n",
    "from lightgbm import LGBMClassifier\n",
    "from sklearn.metrics import accuracy_score, f1_score, roc_auc_score\n",
    "\n",
    "# neg, pos = y_DM_train.value_counts()\n",
    "# scale_pos_weight = neg / pos\n",
    "\n",
    "# 모델 정의\n",
    "models = {\n",
    "    \"tuning_Decision Tree\": best_dt,\n",
    "    \"Decision Tree\": DecisionTreeClassifier(random_state=42),\n",
    "    \"Random Forest\": RandomForestClassifier(n_estimators=100, random_state=42),\n",
    "    \"XGBoost\": XGBClassifier(use_label_encoder=False, eval_metric='logloss', random_state=42),     #scale_pos_weight=scale_pos_weight\n",
    "    \"LightGBM\": LGBMClassifier(random_state=42,is_unbalance=True)\n",
    "}\n",
    "\n",
    "result(models, X_resampled, x_test_scaled, y_resampled,y_test)\n"
   ]
  },
  {
   "cell_type": "markdown",
   "id": "07b7b6f9",
   "metadata": {},
   "source": [
    "---"
   ]
  }
 ],
 "metadata": {
  "colab": {
   "provenance": []
  },
  "kernelspec": {
   "display_name": "dibk311",
   "language": "python",
   "name": "python3"
  },
  "language_info": {
   "codemirror_mode": {
    "name": "ipython",
    "version": 3
   },
   "file_extension": ".py",
   "mimetype": "text/x-python",
   "name": "python",
   "nbconvert_exporter": "python",
   "pygments_lexer": "ipython3",
   "version": "3.11.11"
  }
 },
 "nbformat": 4,
 "nbformat_minor": 5
}
